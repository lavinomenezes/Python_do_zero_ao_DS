{
 "cells": [
  {
   "cell_type": "markdown",
   "metadata": {},
   "source": [
    "Agenda:\n",
    " 1. Requisição do CEO\n",
    " 2. Planejamento do dashboard\n",
    " 3. Criação de Dashboards web\n",
    " 4. Exercícios"
   ]
  },
  {
   "cell_type": "markdown",
   "metadata": {},
   "source": [
    "##  HOUSE ROCKET\n",
    "    Property buying and selling company where the CEO of the company would like to maximize the company's profit by finding good deals.\n",
    "    \n",
    "    Empresa de compra e venda de propriedades onde o CEO da empresa gostaria de maximizar o lucro da empresa encontrando bons negocios."
   ]
  },
  {
   "cell_type": "markdown",
   "metadata": {
    "ExecuteTime": {
     "end_time": "2022-01-10T17:49:13.717530Z",
     "start_time": "2022-01-10T17:49:13.702560Z"
    }
   },
   "source": [
    "## As novas perguntas dos CEO\n",
    "\n",
    "1. Gostaria de chegar de manhão na minha mesa e ter um lugar único onde eu possa observar o portfólio da House Rocke. Nesse portfólio, eu tenho interesse:\n",
    "    - Filtros dos imóveis por um ou várias regiões\n",
    "    - Escolher uma ou mais variáveis para visuallizar.\n",
    "    - Observar o número total de imóveis, a média de preço, a média da sala de estar e também a média do preço por metro quadrado em cada um dos códigos postais.\n",
    "    - Analisar casa uma das colunas de um modo mais descrito.\n",
    "    - Um mapa com a densidade de portifólio por região e também densidade de preço.\n",
    "    - checar variação anual de preço.\n",
    "    - Checar a variação diária do preço.\n",
    "    - Conferir a distribuição de imoveis por:\n",
    "        - Preço;\n",
    "        - Número de banheiros;\n",
    "        - Número de andares;\n",
    "        - Vista para a água ou não."
   ]
  },
  {
   "cell_type": "markdown",
   "metadata": {},
   "source": [
    "## Planejameno da solução\n",
    "    1. Planejamento do produto final\n",
    "        1.1 Oque eu vou entregar?\n",
    "            - Um link par acessar o dashboard\n",
    "        1.2 Como vai ser a entrega?\n",
    "            R: Perguntas | Respostas\n",
    "    2. Planejamento do processo\n",
    "        2.1 Onde está a informação?\n",
    "            dataset no kaggle\n",
    "        2.2 Como coletar as informações?\n",
    "            diponiveis publicamente\n",
    "        2.3 responder as perguntas        \n",
    "    3. Planejamento do ferramentas?\n",
    "        3.1 Python\n",
    "        3.2 PyCharm\n",
    "        3.3 Jupyter Notebook\n",
    "        3.4 streamlit"
   ]
  }
 ],
 "metadata": {
  "kernelspec": {
   "display_name": "Python 3",
   "language": "python",
   "name": "python3"
  },
  "language_info": {
   "codemirror_mode": {
    "name": "ipython",
    "version": 3
   },
   "file_extension": ".py",
   "mimetype": "text/x-python",
   "name": "python",
   "nbconvert_exporter": "python",
   "pygments_lexer": "ipython3",
   "version": "3.8.5"
  }
 },
 "nbformat": 4,
 "nbformat_minor": 4
}
